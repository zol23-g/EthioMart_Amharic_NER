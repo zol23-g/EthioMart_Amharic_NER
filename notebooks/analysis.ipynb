{
 "cells": [
  {
   "cell_type": "code",
   "execution_count": 41,
   "metadata": {},
   "outputs": [],
   "source": [
    "import pandas as pd\n"
   ]
  },
  {
   "cell_type": "code",
   "execution_count": 42,
   "metadata": {},
   "outputs": [],
   "source": [
    "df=pd.read_csv('../data/raw/messages.csv')"
   ]
  },
  {
   "cell_type": "code",
   "execution_count": 43,
   "metadata": {},
   "outputs": [
    {
     "name": "stdout",
     "output_type": "stream",
     "text": [
      "<class 'pandas.core.frame.DataFrame'>\n",
      "RangeIndex: 4171 entries, 0 to 4170\n",
      "Data columns (total 5 columns):\n",
      " #   Column        Non-Null Count  Dtype \n",
      "---  ------        --------------  ----- \n",
      " 0   message_id    4171 non-null   object\n",
      " 1   sender_id     4171 non-null   int64 \n",
      " 2   message_text  4171 non-null   object\n",
      " 3   channel       4171 non-null   object\n",
      " 4   date          4171 non-null   object\n",
      "dtypes: int64(1), object(4)\n",
      "memory usage: 163.1+ KB\n"
     ]
    }
   ],
   "source": [
    "df.info()"
   ]
  },
  {
   "cell_type": "code",
   "execution_count": 44,
   "metadata": {},
   "outputs": [],
   "source": [
    "df_cleaned = df.dropna()"
   ]
  },
  {
   "cell_type": "code",
   "execution_count": 39,
   "metadata": {},
   "outputs": [
    {
     "name": "stdout",
     "output_type": "stream",
     "text": [
      "Cleaned DataFrame saved. Total entries after cleaning: 4171\n"
     ]
    }
   ],
   "source": [
    "# Save the cleaned DataFrame back to the CSV file\n",
    "df_cleaned.to_csv('../data/raw/messages.csv', index=False)\n",
    "\n",
    "print(f\"Cleaned DataFrame saved. Total entries after cleaning: {len(df_cleaned)}\")"
   ]
  },
  {
   "cell_type": "code",
   "execution_count": 45,
   "metadata": {},
   "outputs": [
    {
     "data": {
      "text/html": [
       "<div>\n",
       "<style scoped>\n",
       "    .dataframe tbody tr th:only-of-type {\n",
       "        vertical-align: middle;\n",
       "    }\n",
       "\n",
       "    .dataframe tbody tr th {\n",
       "        vertical-align: top;\n",
       "    }\n",
       "\n",
       "    .dataframe thead th {\n",
       "        text-align: right;\n",
       "    }\n",
       "</style>\n",
       "<table border=\"1\" class=\"dataframe\">\n",
       "  <thead>\n",
       "    <tr style=\"text-align: right;\">\n",
       "      <th></th>\n",
       "      <th>message_id</th>\n",
       "      <th>sender_id</th>\n",
       "      <th>message_text</th>\n",
       "      <th>channel</th>\n",
       "      <th>date</th>\n",
       "    </tr>\n",
       "  </thead>\n",
       "  <tbody>\n",
       "    <tr>\n",
       "      <th>0</th>\n",
       "      <td>062e49db-2840-4f58-bc5a-e314a39eff7c</td>\n",
       "      <td>-1001429900086</td>\n",
       "      <td>እንኳን ለብርሃነ መስቀሉ በሰላም አደረሳችሁ።\\n\\nበዓሉ የሰላም የጤናና ...</td>\n",
       "      <td>AwasMart</td>\n",
       "      <td>2024-09-27 10:24:09+00:00</td>\n",
       "    </tr>\n",
       "    <tr>\n",
       "      <th>1</th>\n",
       "      <td>5b96c505-d713-4ccd-910b-67ebf443b5bf</td>\n",
       "      <td>-1001429900086</td>\n",
       "      <td>🕯Rose** **diamond table lamp 🧙‍♀️</td>\n",
       "      <td>AwasMart</td>\n",
       "      <td>2024-09-26 17:11:41+00:00</td>\n",
       "    </tr>\n",
       "    <tr>\n",
       "      <th>2</th>\n",
       "      <td>22800188-0d23-4c84-a799-98115a2f85d3</td>\n",
       "      <td>-1001429900086</td>\n",
       "      <td>🕯Rose** **diamond table lamp 🧙‍♀️</td>\n",
       "      <td>AwasMart</td>\n",
       "      <td>2024-09-26 17:10:18+00:00</td>\n",
       "    </tr>\n",
       "    <tr>\n",
       "      <th>3</th>\n",
       "      <td>94592f18-e939-46c1-86ef-c002d0aed5d5</td>\n",
       "      <td>-1001429900086</td>\n",
       "      <td>🕯Rose** **diamond table lamp 🧙‍♀️</td>\n",
       "      <td>AwasMart</td>\n",
       "      <td>2024-09-26 17:10:18+00:00</td>\n",
       "    </tr>\n",
       "    <tr>\n",
       "      <th>4</th>\n",
       "      <td>bd2e96c5-e59a-48e0-9f89-cc734b57623e</td>\n",
       "      <td>-1001429900086</td>\n",
       "      <td>🦌Rose** **diamond table lamp🔥\\n\\n__👉Very suita...</td>\n",
       "      <td>AwasMart</td>\n",
       "      <td>2024-09-26 17:09:54+00:00</td>\n",
       "    </tr>\n",
       "    <tr>\n",
       "      <th>5</th>\n",
       "      <td>a93d1554-4aea-4b62-9979-b9fb57461547</td>\n",
       "      <td>-1001429900086</td>\n",
       "      <td>📌📌📌📌📌📌📌📌📌📌📌\\n🚽Super Absorbent Bathroom Mat</td>\n",
       "      <td>AwasMart</td>\n",
       "      <td>2024-09-26 12:45:37+00:00</td>\n",
       "    </tr>\n",
       "    <tr>\n",
       "      <th>6</th>\n",
       "      <td>d7b4cb0e-f21f-48e9-bf94-bc68d40bd6c6</td>\n",
       "      <td>-1001429900086</td>\n",
       "      <td>📌📌📌📌📌📌📌📌📌📌📌\\n🚽Super Absorbent Bathroom Mat</td>\n",
       "      <td>AwasMart</td>\n",
       "      <td>2024-09-26 12:45:37+00:00</td>\n",
       "    </tr>\n",
       "    <tr>\n",
       "      <th>7</th>\n",
       "      <td>1915f6d5-f9c2-40ed-a329-23a3b684fe3d</td>\n",
       "      <td>-1001429900086</td>\n",
       "      <td>🚽Super Absorbent Bathroom Mat\\n\\n👉Soft anti-sl...</td>\n",
       "      <td>AwasMart</td>\n",
       "      <td>2024-09-26 12:45:37+00:00</td>\n",
       "    </tr>\n",
       "    <tr>\n",
       "      <th>8</th>\n",
       "      <td>c4787b96-d596-4fa5-bd40-baa49018c70c</td>\n",
       "      <td>-1001429900086</td>\n",
       "      <td>🍔🍔🍔🍔🍔🍔🍔🍔🍔🍔\\n❇️Crepe maker</td>\n",
       "      <td>AwasMart</td>\n",
       "      <td>2024-09-26 05:07:03+00:00</td>\n",
       "    </tr>\n",
       "    <tr>\n",
       "      <th>9</th>\n",
       "      <td>525fc1d0-b8ad-41e1-8092-ce48c9f48d2e</td>\n",
       "      <td>-1001429900086</td>\n",
       "      <td>🍔🍔🍔🍔🍔🍔🍔🍔🍔🍔🍔🍔\\n❇️Crepe maker\\n          💯High q...</td>\n",
       "      <td>AwasMart</td>\n",
       "      <td>2024-09-26 05:07:03+00:00</td>\n",
       "    </tr>\n",
       "  </tbody>\n",
       "</table>\n",
       "</div>"
      ],
      "text/plain": [
       "                             message_id      sender_id  \\\n",
       "0  062e49db-2840-4f58-bc5a-e314a39eff7c -1001429900086   \n",
       "1  5b96c505-d713-4ccd-910b-67ebf443b5bf -1001429900086   \n",
       "2  22800188-0d23-4c84-a799-98115a2f85d3 -1001429900086   \n",
       "3  94592f18-e939-46c1-86ef-c002d0aed5d5 -1001429900086   \n",
       "4  bd2e96c5-e59a-48e0-9f89-cc734b57623e -1001429900086   \n",
       "5  a93d1554-4aea-4b62-9979-b9fb57461547 -1001429900086   \n",
       "6  d7b4cb0e-f21f-48e9-bf94-bc68d40bd6c6 -1001429900086   \n",
       "7  1915f6d5-f9c2-40ed-a329-23a3b684fe3d -1001429900086   \n",
       "8  c4787b96-d596-4fa5-bd40-baa49018c70c -1001429900086   \n",
       "9  525fc1d0-b8ad-41e1-8092-ce48c9f48d2e -1001429900086   \n",
       "\n",
       "                                        message_text   channel  \\\n",
       "0  እንኳን ለብርሃነ መስቀሉ በሰላም አደረሳችሁ።\\n\\nበዓሉ የሰላም የጤናና ...  AwasMart   \n",
       "1                  🕯Rose** **diamond table lamp 🧙‍♀️  AwasMart   \n",
       "2                  🕯Rose** **diamond table lamp 🧙‍♀️  AwasMart   \n",
       "3                  🕯Rose** **diamond table lamp 🧙‍♀️  AwasMart   \n",
       "4  🦌Rose** **diamond table lamp🔥\\n\\n__👉Very suita...  AwasMart   \n",
       "5         📌📌📌📌📌📌📌📌📌📌📌\\n🚽Super Absorbent Bathroom Mat  AwasMart   \n",
       "6         📌📌📌📌📌📌📌📌📌📌📌\\n🚽Super Absorbent Bathroom Mat  AwasMart   \n",
       "7  🚽Super Absorbent Bathroom Mat\\n\\n👉Soft anti-sl...  AwasMart   \n",
       "8                          🍔🍔🍔🍔🍔🍔🍔🍔🍔🍔\\n❇️Crepe maker  AwasMart   \n",
       "9  🍔🍔🍔🍔🍔🍔🍔🍔🍔🍔🍔🍔\\n❇️Crepe maker\\n          💯High q...  AwasMart   \n",
       "\n",
       "                        date  \n",
       "0  2024-09-27 10:24:09+00:00  \n",
       "1  2024-09-26 17:11:41+00:00  \n",
       "2  2024-09-26 17:10:18+00:00  \n",
       "3  2024-09-26 17:10:18+00:00  \n",
       "4  2024-09-26 17:09:54+00:00  \n",
       "5  2024-09-26 12:45:37+00:00  \n",
       "6  2024-09-26 12:45:37+00:00  \n",
       "7  2024-09-26 12:45:37+00:00  \n",
       "8  2024-09-26 05:07:03+00:00  \n",
       "9  2024-09-26 05:07:03+00:00  "
      ]
     },
     "execution_count": 45,
     "metadata": {},
     "output_type": "execute_result"
    }
   ],
   "source": [
    "df.head(10)"
   ]
  },
  {
   "cell_type": "code",
   "execution_count": 35,
   "metadata": {},
   "outputs": [
    {
     "data": {
      "text/plain": [
       "0    እንኳን ለብርሃነ መስቀሉ በሰላም አደረሳችሁ።\\n\\nበዓሉ የሰላም የጤናና ...\n",
       "1                    🕯Rose** **diamond table lamp 🧙‍♀️\n",
       "2                    🕯Rose** **diamond table lamp 🧙‍♀️\n",
       "3                    🕯Rose** **diamond table lamp 🧙‍♀️\n",
       "4                                                  NaN\n",
       "Name: message_text, dtype: object"
      ]
     },
     "execution_count": 35,
     "metadata": {},
     "output_type": "execute_result"
    }
   ],
   "source": [
    "message_df=df['message_text']\n",
    "message_df.head()"
   ]
  },
  {
   "cell_type": "code",
   "execution_count": 25,
   "metadata": {},
   "outputs": [],
   "source": [
    "df.dropna(subset=['message_text'], inplace=True)"
   ]
  },
  {
   "cell_type": "code",
   "execution_count": 11,
   "metadata": {},
   "outputs": [
    {
     "name": "stdout",
     "output_type": "stream",
     "text": [
      "<class 'pandas.core.frame.DataFrame'>\n",
      "Index: 406 entries, 0 to 1313\n",
      "Data columns (total 4 columns):\n",
      " #   Column        Non-Null Count  Dtype \n",
      "---  ------        --------------  ----- \n",
      " 0   message_id    406 non-null    object\n",
      " 1   sender_id     406 non-null    int64 \n",
      " 2   message_text  406 non-null    object\n",
      " 3   channel       406 non-null    object\n",
      "dtypes: int64(1), object(3)\n",
      "memory usage: 15.9+ KB\n"
     ]
    }
   ],
   "source": [
    "df.info()"
   ]
  },
  {
   "cell_type": "code",
   "execution_count": 26,
   "metadata": {},
   "outputs": [
    {
     "data": {
      "text/html": [
       "<div>\n",
       "<style scoped>\n",
       "    .dataframe tbody tr th:only-of-type {\n",
       "        vertical-align: middle;\n",
       "    }\n",
       "\n",
       "    .dataframe tbody tr th {\n",
       "        vertical-align: top;\n",
       "    }\n",
       "\n",
       "    .dataframe thead th {\n",
       "        text-align: right;\n",
       "    }\n",
       "</style>\n",
       "<table border=\"1\" class=\"dataframe\">\n",
       "  <thead>\n",
       "    <tr style=\"text-align: right;\">\n",
       "      <th></th>\n",
       "      <th>message_id</th>\n",
       "      <th>sender_id</th>\n",
       "      <th>message_text</th>\n",
       "      <th>channel</th>\n",
       "      <th>date</th>\n",
       "    </tr>\n",
       "  </thead>\n",
       "  <tbody>\n",
       "    <tr>\n",
       "      <th>0</th>\n",
       "      <td>372e00df-6522-49e8-a93d-263bf862a6d1</td>\n",
       "      <td>-1001681857783</td>\n",
       "      <td>እንኳን ለመስቀል በዓል በሠላም አደረሳችሁ\\n  ለበዓል የሚያስፈልጋችሁን ...</td>\n",
       "      <td>awlalagebeya</td>\n",
       "      <td>2024-09-26 06:59:46+00:00</td>\n",
       "    </tr>\n",
       "    <tr>\n",
       "      <th>1</th>\n",
       "      <td>1c459dd0-4eaf-4237-b19f-1a5fa2f17f50</td>\n",
       "      <td>-1001681857783</td>\n",
       "      <td>C92 Max Smart Watch\\n✅ 64/6Gb RAM storage ያለው\\...</td>\n",
       "      <td>awlalagebeya</td>\n",
       "      <td>2024-09-25 07:27:50+00:00</td>\n",
       "    </tr>\n",
       "    <tr>\n",
       "      <th>3</th>\n",
       "      <td>5a6bfac1-cbaf-4dd5-aa8b-e080c6ea1d1b</td>\n",
       "      <td>-1001681857783</td>\n",
       "      <td>Hobby Lobby Onion Chopper\\n✅ 5 ምላጭ ያለው ከማይዝግ ብ...</td>\n",
       "      <td>awlalagebeya</td>\n",
       "      <td>2024-09-03 09:12:59+00:00</td>\n",
       "    </tr>\n",
       "    <tr>\n",
       "      <th>4</th>\n",
       "      <td>89268714-660e-4118-8c8f-b0f235c0cc11</td>\n",
       "      <td>-1001681857783</td>\n",
       "      <td>እጅግ ዘመናዊ ታብሌት አመጣንልዎ \\nC idea Tablet \\n✅*ሲም ካር...</td>\n",
       "      <td>awlalagebeya</td>\n",
       "      <td>2024-09-03 08:15:27+00:00</td>\n",
       "    </tr>\n",
       "    <tr>\n",
       "      <th>5</th>\n",
       "      <td>5a8b30b3-8342-423b-bb92-e84923bba797</td>\n",
       "      <td>-1001681857783</td>\n",
       "      <td>ST-1 Smart Watch\\n✅  smart watch እና airpod በአን...</td>\n",
       "      <td>awlalagebeya</td>\n",
       "      <td>2024-09-03 08:12:16+00:00</td>\n",
       "    </tr>\n",
       "  </tbody>\n",
       "</table>\n",
       "</div>"
      ],
      "text/plain": [
       "                             message_id      sender_id  \\\n",
       "0  372e00df-6522-49e8-a93d-263bf862a6d1 -1001681857783   \n",
       "1  1c459dd0-4eaf-4237-b19f-1a5fa2f17f50 -1001681857783   \n",
       "3  5a6bfac1-cbaf-4dd5-aa8b-e080c6ea1d1b -1001681857783   \n",
       "4  89268714-660e-4118-8c8f-b0f235c0cc11 -1001681857783   \n",
       "5  5a8b30b3-8342-423b-bb92-e84923bba797 -1001681857783   \n",
       "\n",
       "                                        message_text       channel  \\\n",
       "0  እንኳን ለመስቀል በዓል በሠላም አደረሳችሁ\\n  ለበዓል የሚያስፈልጋችሁን ...  awlalagebeya   \n",
       "1  C92 Max Smart Watch\\n✅ 64/6Gb RAM storage ያለው\\...  awlalagebeya   \n",
       "3  Hobby Lobby Onion Chopper\\n✅ 5 ምላጭ ያለው ከማይዝግ ብ...  awlalagebeya   \n",
       "4  እጅግ ዘመናዊ ታብሌት አመጣንልዎ \\nC idea Tablet \\n✅*ሲም ካር...  awlalagebeya   \n",
       "5  ST-1 Smart Watch\\n✅  smart watch እና airpod በአን...  awlalagebeya   \n",
       "\n",
       "                        date  \n",
       "0  2024-09-26 06:59:46+00:00  \n",
       "1  2024-09-25 07:27:50+00:00  \n",
       "3  2024-09-03 09:12:59+00:00  \n",
       "4  2024-09-03 08:15:27+00:00  \n",
       "5  2024-09-03 08:12:16+00:00  "
      ]
     },
     "execution_count": 26,
     "metadata": {},
     "output_type": "execute_result"
    }
   ],
   "source": [
    "df.head()"
   ]
  },
  {
   "cell_type": "code",
   "execution_count": 28,
   "metadata": {},
   "outputs": [],
   "source": [
    "clean_df=pd.read_csv('../data/processed/cleaned_messages.csv')"
   ]
  },
  {
   "cell_type": "code",
   "execution_count": 29,
   "metadata": {},
   "outputs": [
    {
     "name": "stdout",
     "output_type": "stream",
     "text": [
      "<class 'pandas.core.frame.DataFrame'>\n",
      "RangeIndex: 576 entries, 0 to 575\n",
      "Data columns (total 4 columns):\n",
      " #   Column           Non-Null Count  Dtype \n",
      "---  ------           --------------  ----- \n",
      " 0   sender_id        576 non-null    int64 \n",
      " 1   channel          576 non-null    object\n",
      " 2   date             576 non-null    object\n",
      " 3   cleaned_message  535 non-null    object\n",
      "dtypes: int64(1), object(3)\n",
      "memory usage: 18.1+ KB\n"
     ]
    }
   ],
   "source": [
    "clean_df.info()"
   ]
  },
  {
   "cell_type": "code",
   "execution_count": 30,
   "metadata": {},
   "outputs": [
    {
     "data": {
      "text/plain": [
       "0      ▁እንኳን ▁ለ መስቀል ▁በዓል ▁በ ሠ ላም ▁አ ደረ ሳ ችሁ ▁ለ በ ዓ ል...\n",
       "1      ▁C 92 ▁Max ▁Smart ▁Watch ▁ 646 G b ▁RAM ▁stora...\n",
       "2                                                    NaN\n",
       "3      ▁Hobby ▁Lo bby ▁On ion ▁Cho pper ▁5 ▁ ምላ ጭ ▁ያለ...\n",
       "4      ▁እጅግ ▁ ዘመ ናዊ ▁ታ ብ ሌት ▁አ መጣ ን ል ዎ ▁C ▁idea ▁Tab...\n",
       "                             ...                        \n",
       "571    ▁ሁሉንም ▁እንደ ፍ ላ ጎ ት ዎ ▁አ ማር ጠው ▁ይ ሸ ም ቱ ▁ብዙ ▁ምር...\n",
       "572    ▁All ▁your ▁shopping ▁needs ▁deliver ed ▁to ▁y...\n",
       "573    ▁አሁን ▁ግብ ይት ▁በእ ው ቀት ▁ሆኖ ▁በጣም ▁ቀ ሏል ▁አው ላላ ▁ግብ...\n",
       "574    ▁እነሆ ▁አዲስ ▁ነገር ▁ ከሰ ዋ ስ ው ▁ውድ ▁ቤተ ሰቦች ▁Se was ...\n",
       "575                                                  NaN\n",
       "Name: cleaned_message, Length: 576, dtype: object"
      ]
     },
     "execution_count": 30,
     "metadata": {},
     "output_type": "execute_result"
    }
   ],
   "source": [
    "clean_message_df=clean_df['cleaned_message']\n",
    "clean_message_df"
   ]
  }
 ],
 "metadata": {
  "kernelspec": {
   "display_name": "venv",
   "language": "python",
   "name": "python3"
  },
  "language_info": {
   "codemirror_mode": {
    "name": "ipython",
    "version": 3
   },
   "file_extension": ".py",
   "mimetype": "text/x-python",
   "name": "python",
   "nbconvert_exporter": "python",
   "pygments_lexer": "ipython3",
   "version": "3.12.3"
  }
 },
 "nbformat": 4,
 "nbformat_minor": 2
}
