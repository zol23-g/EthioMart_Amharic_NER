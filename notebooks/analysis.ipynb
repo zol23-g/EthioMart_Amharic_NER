{
 "cells": [
  {
   "cell_type": "code",
   "execution_count": 1,
   "metadata": {},
   "outputs": [],
   "source": [
    "import pandas as pd\n"
   ]
  },
  {
   "cell_type": "code",
   "execution_count": 3,
   "metadata": {},
   "outputs": [],
   "source": [
    "df=pd.read_csv('../data/raw/messages.csv')"
   ]
  },
  {
   "cell_type": "code",
   "execution_count": 9,
   "metadata": {},
   "outputs": [
    {
     "name": "stdout",
     "output_type": "stream",
     "text": [
      "<class 'pandas.core.frame.DataFrame'>\n",
      "RangeIndex: 1317 entries, 0 to 1316\n",
      "Data columns (total 4 columns):\n",
      " #   Column        Non-Null Count  Dtype \n",
      "---  ------        --------------  ----- \n",
      " 0   message_id    1317 non-null   object\n",
      " 1   sender_id     1317 non-null   int64 \n",
      " 2   message_text  406 non-null    object\n",
      " 3   channel       1317 non-null   object\n",
      "dtypes: int64(1), object(3)\n",
      "memory usage: 41.3+ KB\n"
     ]
    }
   ],
   "source": [
    "df.info()"
   ]
  },
  {
   "cell_type": "code",
   "execution_count": 5,
   "metadata": {},
   "outputs": [
    {
     "data": {
      "text/html": [
       "<div>\n",
       "<style scoped>\n",
       "    .dataframe tbody tr th:only-of-type {\n",
       "        vertical-align: middle;\n",
       "    }\n",
       "\n",
       "    .dataframe tbody tr th {\n",
       "        vertical-align: top;\n",
       "    }\n",
       "\n",
       "    .dataframe thead th {\n",
       "        text-align: right;\n",
       "    }\n",
       "</style>\n",
       "<table border=\"1\" class=\"dataframe\">\n",
       "  <thead>\n",
       "    <tr style=\"text-align: right;\">\n",
       "      <th></th>\n",
       "      <th>message_id</th>\n",
       "      <th>sender_id</th>\n",
       "      <th>message_text</th>\n",
       "      <th>channel</th>\n",
       "    </tr>\n",
       "  </thead>\n",
       "  <tbody>\n",
       "    <tr>\n",
       "      <th>0</th>\n",
       "      <td>7e25b4e4-1e1f-4f31-85c1-d9633f827cbd</td>\n",
       "      <td>-1001467844033</td>\n",
       "      <td>🌻🌻 የአዲስ አመት ልዩ ቅናሽ🌻🌻\\n📣 CHENRUI DOUBLE PLAT AI...</td>\n",
       "      <td>zuzuolinemarket</td>\n",
       "    </tr>\n",
       "    <tr>\n",
       "      <th>1</th>\n",
       "      <td>2859ccb8-06ac-4fcf-9cbf-b21fdf2d5c05</td>\n",
       "      <td>-1001467844033</td>\n",
       "      <td>🎯 RATTAN MIRROR SET\\n\\n👉 የባኞ ቤትዎ ጌጥ\\n👉 አንድ 60c...</td>\n",
       "      <td>zuzuolinemarket</td>\n",
       "    </tr>\n",
       "    <tr>\n",
       "      <th>2</th>\n",
       "      <td>c8530c20-9a4a-4dd7-bb11-0114b9adfd31</td>\n",
       "      <td>-1001467844033</td>\n",
       "      <td>NaN</td>\n",
       "      <td>zuzuolinemarket</td>\n",
       "    </tr>\n",
       "    <tr>\n",
       "      <th>3</th>\n",
       "      <td>dd1d8440-2a39-43f0-91be-87e54e96037e</td>\n",
       "      <td>-1001467844033</td>\n",
       "      <td>NaN</td>\n",
       "      <td>zuzuolinemarket</td>\n",
       "    </tr>\n",
       "    <tr>\n",
       "      <th>4</th>\n",
       "      <td>f3f036e8-2803-4d55-aa20-e125c2380402</td>\n",
       "      <td>-1001467844033</td>\n",
       "      <td>NaN</td>\n",
       "      <td>zuzuolinemarket</td>\n",
       "    </tr>\n",
       "    <tr>\n",
       "      <th>5</th>\n",
       "      <td>835241d3-7487-4dfc-a9c1-167fc4dd5a04</td>\n",
       "      <td>-1001467844033</td>\n",
       "      <td>NaN</td>\n",
       "      <td>zuzuolinemarket</td>\n",
       "    </tr>\n",
       "    <tr>\n",
       "      <th>6</th>\n",
       "      <td>5070a089-4602-4993-a444-a6716016ab1b</td>\n",
       "      <td>-1001467844033</td>\n",
       "      <td>ቴሌግራም👉 https://t.me/zuzuolinemarket\\n\\n⏳የጫማ መደ...</td>\n",
       "      <td>zuzuolinemarket</td>\n",
       "    </tr>\n",
       "    <tr>\n",
       "      <th>7</th>\n",
       "      <td>74473606-90d5-4e06-adbb-dafd2b80a17e</td>\n",
       "      <td>-1001467844033</td>\n",
       "      <td>ቴሌግራም👉 https://t.me/zuzuolinemarket\\n\\n⏳100% ኳ...</td>\n",
       "      <td>zuzuolinemarket</td>\n",
       "    </tr>\n",
       "    <tr>\n",
       "      <th>8</th>\n",
       "      <td>7b7098d9-99a0-4a6f-bc5a-f67010cb027f</td>\n",
       "      <td>-1001467844033</td>\n",
       "      <td>NaN</td>\n",
       "      <td>zuzuolinemarket</td>\n",
       "    </tr>\n",
       "    <tr>\n",
       "      <th>9</th>\n",
       "      <td>8fb4fc1c-1ece-4987-bd5c-7064bfd3938c</td>\n",
       "      <td>-1001467844033</td>\n",
       "      <td>NaN</td>\n",
       "      <td>zuzuolinemarket</td>\n",
       "    </tr>\n",
       "  </tbody>\n",
       "</table>\n",
       "</div>"
      ],
      "text/plain": [
       "                             message_id      sender_id  \\\n",
       "0  7e25b4e4-1e1f-4f31-85c1-d9633f827cbd -1001467844033   \n",
       "1  2859ccb8-06ac-4fcf-9cbf-b21fdf2d5c05 -1001467844033   \n",
       "2  c8530c20-9a4a-4dd7-bb11-0114b9adfd31 -1001467844033   \n",
       "3  dd1d8440-2a39-43f0-91be-87e54e96037e -1001467844033   \n",
       "4  f3f036e8-2803-4d55-aa20-e125c2380402 -1001467844033   \n",
       "5  835241d3-7487-4dfc-a9c1-167fc4dd5a04 -1001467844033   \n",
       "6  5070a089-4602-4993-a444-a6716016ab1b -1001467844033   \n",
       "7  74473606-90d5-4e06-adbb-dafd2b80a17e -1001467844033   \n",
       "8  7b7098d9-99a0-4a6f-bc5a-f67010cb027f -1001467844033   \n",
       "9  8fb4fc1c-1ece-4987-bd5c-7064bfd3938c -1001467844033   \n",
       "\n",
       "                                        message_text          channel  \n",
       "0  🌻🌻 የአዲስ አመት ልዩ ቅናሽ🌻🌻\\n📣 CHENRUI DOUBLE PLAT AI...  zuzuolinemarket  \n",
       "1  🎯 RATTAN MIRROR SET\\n\\n👉 የባኞ ቤትዎ ጌጥ\\n👉 አንድ 60c...  zuzuolinemarket  \n",
       "2                                                NaN  zuzuolinemarket  \n",
       "3                                                NaN  zuzuolinemarket  \n",
       "4                                                NaN  zuzuolinemarket  \n",
       "5                                                NaN  zuzuolinemarket  \n",
       "6  ቴሌግራም👉 https://t.me/zuzuolinemarket\\n\\n⏳የጫማ መደ...  zuzuolinemarket  \n",
       "7  ቴሌግራም👉 https://t.me/zuzuolinemarket\\n\\n⏳100% ኳ...  zuzuolinemarket  \n",
       "8                                                NaN  zuzuolinemarket  \n",
       "9                                                NaN  zuzuolinemarket  "
      ]
     },
     "execution_count": 5,
     "metadata": {},
     "output_type": "execute_result"
    }
   ],
   "source": [
    "df.head(10)"
   ]
  },
  {
   "cell_type": "code",
   "execution_count": 6,
   "metadata": {},
   "outputs": [
    {
     "data": {
      "text/plain": [
       "0    🌻🌻 የአዲስ አመት ልዩ ቅናሽ🌻🌻\\n📣 CHENRUI DOUBLE PLAT AI...\n",
       "1    🎯 RATTAN MIRROR SET\\n\\n👉 የባኞ ቤትዎ ጌጥ\\n👉 አንድ 60c...\n",
       "2                                                  NaN\n",
       "3                                                  NaN\n",
       "4                                                  NaN\n",
       "Name: message_text, dtype: object"
      ]
     },
     "execution_count": 6,
     "metadata": {},
     "output_type": "execute_result"
    }
   ],
   "source": [
    "message_df=df['message_text']\n",
    "message_df.head()"
   ]
  },
  {
   "cell_type": "code",
   "execution_count": 10,
   "metadata": {},
   "outputs": [],
   "source": [
    "df.dropna(subset=['message_text'], inplace=True)"
   ]
  },
  {
   "cell_type": "code",
   "execution_count": 11,
   "metadata": {},
   "outputs": [
    {
     "name": "stdout",
     "output_type": "stream",
     "text": [
      "<class 'pandas.core.frame.DataFrame'>\n",
      "Index: 406 entries, 0 to 1313\n",
      "Data columns (total 4 columns):\n",
      " #   Column        Non-Null Count  Dtype \n",
      "---  ------        --------------  ----- \n",
      " 0   message_id    406 non-null    object\n",
      " 1   sender_id     406 non-null    int64 \n",
      " 2   message_text  406 non-null    object\n",
      " 3   channel       406 non-null    object\n",
      "dtypes: int64(1), object(3)\n",
      "memory usage: 15.9+ KB\n"
     ]
    }
   ],
   "source": [
    "df.info()"
   ]
  },
  {
   "cell_type": "code",
   "execution_count": 12,
   "metadata": {},
   "outputs": [
    {
     "data": {
      "text/html": [
       "<div>\n",
       "<style scoped>\n",
       "    .dataframe tbody tr th:only-of-type {\n",
       "        vertical-align: middle;\n",
       "    }\n",
       "\n",
       "    .dataframe tbody tr th {\n",
       "        vertical-align: top;\n",
       "    }\n",
       "\n",
       "    .dataframe thead th {\n",
       "        text-align: right;\n",
       "    }\n",
       "</style>\n",
       "<table border=\"1\" class=\"dataframe\">\n",
       "  <thead>\n",
       "    <tr style=\"text-align: right;\">\n",
       "      <th></th>\n",
       "      <th>message_id</th>\n",
       "      <th>sender_id</th>\n",
       "      <th>message_text</th>\n",
       "      <th>channel</th>\n",
       "    </tr>\n",
       "  </thead>\n",
       "  <tbody>\n",
       "    <tr>\n",
       "      <th>0</th>\n",
       "      <td>7e25b4e4-1e1f-4f31-85c1-d9633f827cbd</td>\n",
       "      <td>-1001467844033</td>\n",
       "      <td>🌻🌻 የአዲስ አመት ልዩ ቅናሽ🌻🌻\\n📣 CHENRUI DOUBLE PLAT AI...</td>\n",
       "      <td>zuzuolinemarket</td>\n",
       "    </tr>\n",
       "    <tr>\n",
       "      <th>1</th>\n",
       "      <td>2859ccb8-06ac-4fcf-9cbf-b21fdf2d5c05</td>\n",
       "      <td>-1001467844033</td>\n",
       "      <td>🎯 RATTAN MIRROR SET\\n\\n👉 የባኞ ቤትዎ ጌጥ\\n👉 አንድ 60c...</td>\n",
       "      <td>zuzuolinemarket</td>\n",
       "    </tr>\n",
       "    <tr>\n",
       "      <th>6</th>\n",
       "      <td>5070a089-4602-4993-a444-a6716016ab1b</td>\n",
       "      <td>-1001467844033</td>\n",
       "      <td>ቴሌግራም👉 https://t.me/zuzuolinemarket\\n\\n⏳የጫማ መደ...</td>\n",
       "      <td>zuzuolinemarket</td>\n",
       "    </tr>\n",
       "    <tr>\n",
       "      <th>7</th>\n",
       "      <td>74473606-90d5-4e06-adbb-dafd2b80a17e</td>\n",
       "      <td>-1001467844033</td>\n",
       "      <td>ቴሌግራም👉 https://t.me/zuzuolinemarket\\n\\n⏳100% ኳ...</td>\n",
       "      <td>zuzuolinemarket</td>\n",
       "    </tr>\n",
       "    <tr>\n",
       "      <th>10</th>\n",
       "      <td>e3699957-113c-4188-a83d-85e746955143</td>\n",
       "      <td>-1001467844033</td>\n",
       "      <td>ቴሌግራም 👉 https://t.me/zuzuolinemarket\\n\\n\\n⏳የስጋ...</td>\n",
       "      <td>zuzuolinemarket</td>\n",
       "    </tr>\n",
       "  </tbody>\n",
       "</table>\n",
       "</div>"
      ],
      "text/plain": [
       "                              message_id      sender_id  \\\n",
       "0   7e25b4e4-1e1f-4f31-85c1-d9633f827cbd -1001467844033   \n",
       "1   2859ccb8-06ac-4fcf-9cbf-b21fdf2d5c05 -1001467844033   \n",
       "6   5070a089-4602-4993-a444-a6716016ab1b -1001467844033   \n",
       "7   74473606-90d5-4e06-adbb-dafd2b80a17e -1001467844033   \n",
       "10  e3699957-113c-4188-a83d-85e746955143 -1001467844033   \n",
       "\n",
       "                                         message_text          channel  \n",
       "0   🌻🌻 የአዲስ አመት ልዩ ቅናሽ🌻🌻\\n📣 CHENRUI DOUBLE PLAT AI...  zuzuolinemarket  \n",
       "1   🎯 RATTAN MIRROR SET\\n\\n👉 የባኞ ቤትዎ ጌጥ\\n👉 አንድ 60c...  zuzuolinemarket  \n",
       "6   ቴሌግራም👉 https://t.me/zuzuolinemarket\\n\\n⏳የጫማ መደ...  zuzuolinemarket  \n",
       "7   ቴሌግራም👉 https://t.me/zuzuolinemarket\\n\\n⏳100% ኳ...  zuzuolinemarket  \n",
       "10  ቴሌግራም 👉 https://t.me/zuzuolinemarket\\n\\n\\n⏳የስጋ...  zuzuolinemarket  "
      ]
     },
     "execution_count": 12,
     "metadata": {},
     "output_type": "execute_result"
    }
   ],
   "source": [
    "df.head()"
   ]
  },
  {
   "cell_type": "code",
   "execution_count": 13,
   "metadata": {},
   "outputs": [],
   "source": [
    "clean_df=pd.read_csv('../data/processed/cleaned_messages.csv')"
   ]
  },
  {
   "cell_type": "code",
   "execution_count": 14,
   "metadata": {},
   "outputs": [
    {
     "name": "stdout",
     "output_type": "stream",
     "text": [
      "<class 'pandas.core.frame.DataFrame'>\n",
      "RangeIndex: 1317 entries, 0 to 1316\n",
      "Data columns (total 3 columns):\n",
      " #   Column           Non-Null Count  Dtype \n",
      "---  ------           --------------  ----- \n",
      " 0   sender_id        1317 non-null   int64 \n",
      " 1   channel          1317 non-null   object\n",
      " 2   cleaned_message  405 non-null    object\n",
      "dtypes: int64(1), object(2)\n",
      "memory usage: 31.0+ KB\n"
     ]
    }
   ],
   "source": [
    "clean_df.info()"
   ]
  },
  {
   "cell_type": "code",
   "execution_count": 15,
   "metadata": {},
   "outputs": [
    {
     "data": {
      "text/plain": [
       "0       ▁የአዲስ ▁አመት ▁ልዩ ▁ ቅና ሽ ▁CHE NR UI ▁DO U BLE ▁PL...\n",
       "1       ▁ RAT TAN ▁MI RR OR ▁SET ▁የባ ኞ ▁ቤት ዎ ▁ ጌ ጥ ▁አን...\n",
       "2                                                     NaN\n",
       "3                                                     NaN\n",
       "4                                                     NaN\n",
       "                              ...                        \n",
       "1312                                                  NaN\n",
       "1313    ▁Sa cchi ▁Food ▁Process er ▁ብዙ ▁አይነት ▁ም ግ ቦች ▁...\n",
       "1314                                                  NaN\n",
       "1315                                                  NaN\n",
       "1316                                                  NaN\n",
       "Name: cleaned_message, Length: 1317, dtype: object"
      ]
     },
     "execution_count": 15,
     "metadata": {},
     "output_type": "execute_result"
    }
   ],
   "source": [
    "clean_message_df=clean_df['cleaned_message']\n",
    "clean_message_df"
   ]
  }
 ],
 "metadata": {
  "kernelspec": {
   "display_name": "venv",
   "language": "python",
   "name": "python3"
  },
  "language_info": {
   "codemirror_mode": {
    "name": "ipython",
    "version": 3
   },
   "file_extension": ".py",
   "mimetype": "text/x-python",
   "name": "python",
   "nbconvert_exporter": "python",
   "pygments_lexer": "ipython3",
   "version": "3.12.3"
  }
 },
 "nbformat": 4,
 "nbformat_minor": 2
}
