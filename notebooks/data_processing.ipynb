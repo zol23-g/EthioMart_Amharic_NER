{
 "cells": [
  {
   "cell_type": "code",
   "execution_count": 1,
   "metadata": {},
   "outputs": [],
   "source": [
    "import pandas as pd\n"
   ]
  },
  {
   "cell_type": "code",
   "execution_count": 2,
   "metadata": {},
   "outputs": [],
   "source": [
    "df=pd.read_csv('../data/raw/messages.csv')"
   ]
  },
  {
   "cell_type": "code",
   "execution_count": 3,
   "metadata": {},
   "outputs": [
    {
     "name": "stdout",
     "output_type": "stream",
     "text": [
      "<class 'pandas.core.frame.DataFrame'>\n",
      "RangeIndex: 229 entries, 0 to 228\n",
      "Data columns (total 5 columns):\n",
      " #   Column        Non-Null Count  Dtype \n",
      "---  ------        --------------  ----- \n",
      " 0   message_id    229 non-null    object\n",
      " 1   sender_id     229 non-null    int64 \n",
      " 2   message_text  229 non-null    object\n",
      " 3   channel       229 non-null    object\n",
      " 4   date          229 non-null    object\n",
      "dtypes: int64(1), object(4)\n",
      "memory usage: 9.1+ KB\n"
     ]
    }
   ],
   "source": [
    "df.info()"
   ]
  },
  {
   "cell_type": "code",
   "execution_count": 4,
   "metadata": {},
   "outputs": [],
   "source": [
    "df_cleaned = df.dropna()"
   ]
  },
  {
   "cell_type": "code",
   "execution_count": 5,
   "metadata": {},
   "outputs": [
    {
     "name": "stdout",
     "output_type": "stream",
     "text": [
      "Cleaned DataFrame saved. Total entries after cleaning: 229\n"
     ]
    }
   ],
   "source": [
    "# Save the cleaned DataFrame back to the CSV file\n",
    "df_cleaned.to_csv('../data/raw/messages.csv', index=False)\n",
    "\n",
    "print(f\"Cleaned DataFrame saved. Total entries after cleaning: {len(df_cleaned)}\")"
   ]
  },
  {
   "cell_type": "code",
   "execution_count": 6,
   "metadata": {},
   "outputs": [
    {
     "data": {
      "text/html": [
       "<div>\n",
       "<style scoped>\n",
       "    .dataframe tbody tr th:only-of-type {\n",
       "        vertical-align: middle;\n",
       "    }\n",
       "\n",
       "    .dataframe tbody tr th {\n",
       "        vertical-align: top;\n",
       "    }\n",
       "\n",
       "    .dataframe thead th {\n",
       "        text-align: right;\n",
       "    }\n",
       "</style>\n",
       "<table border=\"1\" class=\"dataframe\">\n",
       "  <thead>\n",
       "    <tr style=\"text-align: right;\">\n",
       "      <th></th>\n",
       "      <th>message_id</th>\n",
       "      <th>sender_id</th>\n",
       "      <th>message_text</th>\n",
       "      <th>channel</th>\n",
       "      <th>date</th>\n",
       "    </tr>\n",
       "  </thead>\n",
       "  <tbody>\n",
       "    <tr>\n",
       "      <th>0</th>\n",
       "      <td>1883c30e-0feb-440d-8e2d-6c5e34408eb7</td>\n",
       "      <td>-1001135034032</td>\n",
       "      <td>መልካም በአል!</td>\n",
       "      <td>emartzonsportswear</td>\n",
       "      <td>2024-09-26 12:31:37+00:00</td>\n",
       "    </tr>\n",
       "    <tr>\n",
       "      <th>1</th>\n",
       "      <td>3a4d3ccf-4737-41c6-b523-22fa04578c41</td>\n",
       "      <td>-1001135034032</td>\n",
       "      <td>🩸🩸🩸🩸🩸🩸🩸🏴󠁧󠁢󠁥󠁮󠁧󠁿🏴󠁧󠁢󠁥󠁮󠁧󠁿\\r\\n\\r\\nOriginal💸 24/25 a...</td>\n",
       "      <td>emartzonsportswear</td>\n",
       "      <td>2024-09-26 09:06:43+00:00</td>\n",
       "    </tr>\n",
       "    <tr>\n",
       "      <th>2</th>\n",
       "      <td>24b12c75-b32d-44b6-a135-2ff0a77a44a5</td>\n",
       "      <td>-1001135034032</td>\n",
       "      <td>🇺🇸 #መቷል_available_now 🇺🇸\\r\\n#ኦሪጅናል_የልጆች_ማሊያ_ከነ...</td>\n",
       "      <td>emartzonsportswear</td>\n",
       "      <td>2024-09-24 08:07:57+00:00</td>\n",
       "    </tr>\n",
       "    <tr>\n",
       "      <th>3</th>\n",
       "      <td>91f7af83-7005-4269-870f-f8d1ac6a1a2f</td>\n",
       "      <td>-1001135034032</td>\n",
       "      <td>🏴󠁧󠁢󠁥󠁮󠁧󠁿🔤🔤🔤🔤🔤🔤🔤🔤🏴󠁧󠁢󠁥󠁮󠁧󠁿\\r\\n#ኦሪጅናል_ማሊያ ✅\\r\\nOrig...</td>\n",
       "      <td>emartzonsportswear</td>\n",
       "      <td>2024-09-23 06:32:01+00:00</td>\n",
       "    </tr>\n",
       "    <tr>\n",
       "      <th>4</th>\n",
       "      <td>da7aa81f-cdb0-4d06-bac5-defe36f5403c</td>\n",
       "      <td>-1001135034032</td>\n",
       "      <td>🩸🩸🩸🩸🩸🩸🅰️🩸🩸\\r\\nሜክሲኮ ቅርንጫፍ እሁድ ክፍት ነው✅\\r\\n📌ሜክሲኮ ...</td>\n",
       "      <td>emartzonsportswear</td>\n",
       "      <td>2024-09-22 09:23:05+00:00</td>\n",
       "    </tr>\n",
       "    <tr>\n",
       "      <th>5</th>\n",
       "      <td>a07edfe6-fa94-40d1-906e-543f011e940d</td>\n",
       "      <td>-1001135034032</td>\n",
       "      <td>🏴󠁧󠁢󠁥󠁮󠁧󠁿🅰️🔠🔠🔠🔠🅰️🔠🏴󠁧󠁢󠁥󠁮󠁧󠁿\\r\\n#ኦሪጅናል_ማሊያ ✅\\r\\nOri...</td>\n",
       "      <td>emartzonsportswear</td>\n",
       "      <td>2024-09-22 06:50:54+00:00</td>\n",
       "    </tr>\n",
       "    <tr>\n",
       "      <th>6</th>\n",
       "      <td>295170ec-5b1c-4465-a9eb-4c2a3de861c6</td>\n",
       "      <td>-1001135034032</td>\n",
       "      <td>🏴󠁧󠁢󠁥󠁮󠁧󠁿🔤🔤🔤🔤🏴󠁧󠁢󠁥󠁮󠁧󠁿\\r\\n#ኦሪጅናል_ማሊያ ✅\\r\\nOriginal...</td>\n",
       "      <td>emartzonsportswear</td>\n",
       "      <td>2024-09-22 06:44:46+00:00</td>\n",
       "    </tr>\n",
       "    <tr>\n",
       "      <th>7</th>\n",
       "      <td>b2ab8a28-6398-4b12-954d-995f23c8796f</td>\n",
       "      <td>-1001135034032</td>\n",
       "      <td>🏴󠁧󠁢󠁥󠁮󠁧󠁿🫵🩸🩸🩸🩸🩸🏴󠁧󠁢󠁥󠁮󠁧󠁿\\r\\n#ኦሪጅናል_ማሊያ ✅\\r\\nOrigin...</td>\n",
       "      <td>emartzonsportswear</td>\n",
       "      <td>2024-09-21 06:41:50+00:00</td>\n",
       "    </tr>\n",
       "    <tr>\n",
       "      <th>8</th>\n",
       "      <td>17956865-93ca-48d0-80d0-e76e005c5c1f</td>\n",
       "      <td>-1001135034032</td>\n",
       "      <td>🅰🅰🅰🅰🅰🅰🅰 🐶\\r\\n\\r\\nUnited 🏴󠁧󠁢󠁥󠁮󠁧󠁿 24/25 authenti...</td>\n",
       "      <td>emartzonsportswear</td>\n",
       "      <td>2024-09-20 09:50:42+00:00</td>\n",
       "    </tr>\n",
       "    <tr>\n",
       "      <th>9</th>\n",
       "      <td>d8e2dc12-fff3-4a30-88c7-6026fbd9252a</td>\n",
       "      <td>-1001135034032</td>\n",
       "      <td>🏴󠁧󠁢󠁥󠁮󠁧󠁿🅰️🔠🔠🔠🔠🅰️🔠🏴󠁧󠁢󠁥󠁮󠁧󠁿\\r\\n#ኦሪጅናል_ማሊያ ✅\\r\\nOri...</td>\n",
       "      <td>emartzonsportswear</td>\n",
       "      <td>2024-09-19 12:12:58+00:00</td>\n",
       "    </tr>\n",
       "  </tbody>\n",
       "</table>\n",
       "</div>"
      ],
      "text/plain": [
       "                             message_id      sender_id  \\\n",
       "0  1883c30e-0feb-440d-8e2d-6c5e34408eb7 -1001135034032   \n",
       "1  3a4d3ccf-4737-41c6-b523-22fa04578c41 -1001135034032   \n",
       "2  24b12c75-b32d-44b6-a135-2ff0a77a44a5 -1001135034032   \n",
       "3  91f7af83-7005-4269-870f-f8d1ac6a1a2f -1001135034032   \n",
       "4  da7aa81f-cdb0-4d06-bac5-defe36f5403c -1001135034032   \n",
       "5  a07edfe6-fa94-40d1-906e-543f011e940d -1001135034032   \n",
       "6  295170ec-5b1c-4465-a9eb-4c2a3de861c6 -1001135034032   \n",
       "7  b2ab8a28-6398-4b12-954d-995f23c8796f -1001135034032   \n",
       "8  17956865-93ca-48d0-80d0-e76e005c5c1f -1001135034032   \n",
       "9  d8e2dc12-fff3-4a30-88c7-6026fbd9252a -1001135034032   \n",
       "\n",
       "                                        message_text             channel  \\\n",
       "0                                          መልካም በአል!  emartzonsportswear   \n",
       "1  🩸🩸🩸🩸🩸🩸🩸🏴󠁧󠁢󠁥󠁮󠁧󠁿🏴󠁧󠁢󠁥󠁮󠁧󠁿\\r\\n\\r\\nOriginal💸 24/25 a...  emartzonsportswear   \n",
       "2  🇺🇸 #መቷል_available_now 🇺🇸\\r\\n#ኦሪጅናል_የልጆች_ማሊያ_ከነ...  emartzonsportswear   \n",
       "3  🏴󠁧󠁢󠁥󠁮󠁧󠁿🔤🔤🔤🔤🔤🔤🔤🔤🏴󠁧󠁢󠁥󠁮󠁧󠁿\\r\\n#ኦሪጅናል_ማሊያ ✅\\r\\nOrig...  emartzonsportswear   \n",
       "4  🩸🩸🩸🩸🩸🩸🅰️🩸🩸\\r\\nሜክሲኮ ቅርንጫፍ እሁድ ክፍት ነው✅\\r\\n📌ሜክሲኮ ...  emartzonsportswear   \n",
       "5  🏴󠁧󠁢󠁥󠁮󠁧󠁿🅰️🔠🔠🔠🔠🅰️🔠🏴󠁧󠁢󠁥󠁮󠁧󠁿\\r\\n#ኦሪጅናል_ማሊያ ✅\\r\\nOri...  emartzonsportswear   \n",
       "6  🏴󠁧󠁢󠁥󠁮󠁧󠁿🔤🔤🔤🔤🏴󠁧󠁢󠁥󠁮󠁧󠁿\\r\\n#ኦሪጅናል_ማሊያ ✅\\r\\nOriginal...  emartzonsportswear   \n",
       "7  🏴󠁧󠁢󠁥󠁮󠁧󠁿🫵🩸🩸🩸🩸🩸🏴󠁧󠁢󠁥󠁮󠁧󠁿\\r\\n#ኦሪጅናል_ማሊያ ✅\\r\\nOrigin...  emartzonsportswear   \n",
       "8  🅰🅰🅰🅰🅰🅰🅰 🐶\\r\\n\\r\\nUnited 🏴󠁧󠁢󠁥󠁮󠁧󠁿 24/25 authenti...  emartzonsportswear   \n",
       "9  🏴󠁧󠁢󠁥󠁮󠁧󠁿🅰️🔠🔠🔠🔠🅰️🔠🏴󠁧󠁢󠁥󠁮󠁧󠁿\\r\\n#ኦሪጅናል_ማሊያ ✅\\r\\nOri...  emartzonsportswear   \n",
       "\n",
       "                        date  \n",
       "0  2024-09-26 12:31:37+00:00  \n",
       "1  2024-09-26 09:06:43+00:00  \n",
       "2  2024-09-24 08:07:57+00:00  \n",
       "3  2024-09-23 06:32:01+00:00  \n",
       "4  2024-09-22 09:23:05+00:00  \n",
       "5  2024-09-22 06:50:54+00:00  \n",
       "6  2024-09-22 06:44:46+00:00  \n",
       "7  2024-09-21 06:41:50+00:00  \n",
       "8  2024-09-20 09:50:42+00:00  \n",
       "9  2024-09-19 12:12:58+00:00  "
      ]
     },
     "execution_count": 6,
     "metadata": {},
     "output_type": "execute_result"
    }
   ],
   "source": [
    "df.head(10)"
   ]
  },
  {
   "cell_type": "code",
   "execution_count": 7,
   "metadata": {},
   "outputs": [
    {
     "data": {
      "text/plain": [
       "0                                            መልካም በአል!\n",
       "1    🩸🩸🩸🩸🩸🩸🩸🏴󠁧󠁢󠁥󠁮󠁧󠁿🏴󠁧󠁢󠁥󠁮󠁧󠁿\\r\\n\\r\\nOriginal💸 24/25 a...\n",
       "2    🇺🇸 #መቷል_available_now 🇺🇸\\r\\n#ኦሪጅናል_የልጆች_ማሊያ_ከነ...\n",
       "3    🏴󠁧󠁢󠁥󠁮󠁧󠁿🔤🔤🔤🔤🔤🔤🔤🔤🏴󠁧󠁢󠁥󠁮󠁧󠁿\\r\\n#ኦሪጅናል_ማሊያ ✅\\r\\nOrig...\n",
       "4    🩸🩸🩸🩸🩸🩸🅰️🩸🩸\\r\\nሜክሲኮ ቅርንጫፍ እሁድ ክፍት ነው✅\\r\\n📌ሜክሲኮ ...\n",
       "Name: message_text, dtype: object"
      ]
     },
     "execution_count": 7,
     "metadata": {},
     "output_type": "execute_result"
    }
   ],
   "source": [
    "message_df=df['message_text']\n",
    "message_df.head()"
   ]
  },
  {
   "cell_type": "code",
   "execution_count": 8,
   "metadata": {},
   "outputs": [],
   "source": [
    "df.dropna(subset=['message_text'], inplace=True)"
   ]
  },
  {
   "cell_type": "code",
   "execution_count": 9,
   "metadata": {},
   "outputs": [
    {
     "name": "stdout",
     "output_type": "stream",
     "text": [
      "<class 'pandas.core.frame.DataFrame'>\n",
      "RangeIndex: 229 entries, 0 to 228\n",
      "Data columns (total 5 columns):\n",
      " #   Column        Non-Null Count  Dtype \n",
      "---  ------        --------------  ----- \n",
      " 0   message_id    229 non-null    object\n",
      " 1   sender_id     229 non-null    int64 \n",
      " 2   message_text  229 non-null    object\n",
      " 3   channel       229 non-null    object\n",
      " 4   date          229 non-null    object\n",
      "dtypes: int64(1), object(4)\n",
      "memory usage: 9.1+ KB\n"
     ]
    }
   ],
   "source": [
    "df.info()"
   ]
  },
  {
   "cell_type": "code",
   "execution_count": 10,
   "metadata": {},
   "outputs": [
    {
     "data": {
      "text/html": [
       "<div>\n",
       "<style scoped>\n",
       "    .dataframe tbody tr th:only-of-type {\n",
       "        vertical-align: middle;\n",
       "    }\n",
       "\n",
       "    .dataframe tbody tr th {\n",
       "        vertical-align: top;\n",
       "    }\n",
       "\n",
       "    .dataframe thead th {\n",
       "        text-align: right;\n",
       "    }\n",
       "</style>\n",
       "<table border=\"1\" class=\"dataframe\">\n",
       "  <thead>\n",
       "    <tr style=\"text-align: right;\">\n",
       "      <th></th>\n",
       "      <th>message_id</th>\n",
       "      <th>sender_id</th>\n",
       "      <th>message_text</th>\n",
       "      <th>channel</th>\n",
       "      <th>date</th>\n",
       "    </tr>\n",
       "  </thead>\n",
       "  <tbody>\n",
       "    <tr>\n",
       "      <th>0</th>\n",
       "      <td>1883c30e-0feb-440d-8e2d-6c5e34408eb7</td>\n",
       "      <td>-1001135034032</td>\n",
       "      <td>መልካም በአል!</td>\n",
       "      <td>emartzonsportswear</td>\n",
       "      <td>2024-09-26 12:31:37+00:00</td>\n",
       "    </tr>\n",
       "    <tr>\n",
       "      <th>1</th>\n",
       "      <td>3a4d3ccf-4737-41c6-b523-22fa04578c41</td>\n",
       "      <td>-1001135034032</td>\n",
       "      <td>🩸🩸🩸🩸🩸🩸🩸🏴󠁧󠁢󠁥󠁮󠁧󠁿🏴󠁧󠁢󠁥󠁮󠁧󠁿\\r\\n\\r\\nOriginal💸 24/25 a...</td>\n",
       "      <td>emartzonsportswear</td>\n",
       "      <td>2024-09-26 09:06:43+00:00</td>\n",
       "    </tr>\n",
       "    <tr>\n",
       "      <th>2</th>\n",
       "      <td>24b12c75-b32d-44b6-a135-2ff0a77a44a5</td>\n",
       "      <td>-1001135034032</td>\n",
       "      <td>🇺🇸 #መቷል_available_now 🇺🇸\\r\\n#ኦሪጅናል_የልጆች_ማሊያ_ከነ...</td>\n",
       "      <td>emartzonsportswear</td>\n",
       "      <td>2024-09-24 08:07:57+00:00</td>\n",
       "    </tr>\n",
       "    <tr>\n",
       "      <th>3</th>\n",
       "      <td>91f7af83-7005-4269-870f-f8d1ac6a1a2f</td>\n",
       "      <td>-1001135034032</td>\n",
       "      <td>🏴󠁧󠁢󠁥󠁮󠁧󠁿🔤🔤🔤🔤🔤🔤🔤🔤🏴󠁧󠁢󠁥󠁮󠁧󠁿\\r\\n#ኦሪጅናል_ማሊያ ✅\\r\\nOrig...</td>\n",
       "      <td>emartzonsportswear</td>\n",
       "      <td>2024-09-23 06:32:01+00:00</td>\n",
       "    </tr>\n",
       "    <tr>\n",
       "      <th>4</th>\n",
       "      <td>da7aa81f-cdb0-4d06-bac5-defe36f5403c</td>\n",
       "      <td>-1001135034032</td>\n",
       "      <td>🩸🩸🩸🩸🩸🩸🅰️🩸🩸\\r\\nሜክሲኮ ቅርንጫፍ እሁድ ክፍት ነው✅\\r\\n📌ሜክሲኮ ...</td>\n",
       "      <td>emartzonsportswear</td>\n",
       "      <td>2024-09-22 09:23:05+00:00</td>\n",
       "    </tr>\n",
       "  </tbody>\n",
       "</table>\n",
       "</div>"
      ],
      "text/plain": [
       "                             message_id      sender_id  \\\n",
       "0  1883c30e-0feb-440d-8e2d-6c5e34408eb7 -1001135034032   \n",
       "1  3a4d3ccf-4737-41c6-b523-22fa04578c41 -1001135034032   \n",
       "2  24b12c75-b32d-44b6-a135-2ff0a77a44a5 -1001135034032   \n",
       "3  91f7af83-7005-4269-870f-f8d1ac6a1a2f -1001135034032   \n",
       "4  da7aa81f-cdb0-4d06-bac5-defe36f5403c -1001135034032   \n",
       "\n",
       "                                        message_text             channel  \\\n",
       "0                                          መልካም በአል!  emartzonsportswear   \n",
       "1  🩸🩸🩸🩸🩸🩸🩸🏴󠁧󠁢󠁥󠁮󠁧󠁿🏴󠁧󠁢󠁥󠁮󠁧󠁿\\r\\n\\r\\nOriginal💸 24/25 a...  emartzonsportswear   \n",
       "2  🇺🇸 #መቷል_available_now 🇺🇸\\r\\n#ኦሪጅናል_የልጆች_ማሊያ_ከነ...  emartzonsportswear   \n",
       "3  🏴󠁧󠁢󠁥󠁮󠁧󠁿🔤🔤🔤🔤🔤🔤🔤🔤🏴󠁧󠁢󠁥󠁮󠁧󠁿\\r\\n#ኦሪጅናል_ማሊያ ✅\\r\\nOrig...  emartzonsportswear   \n",
       "4  🩸🩸🩸🩸🩸🩸🅰️🩸🩸\\r\\nሜክሲኮ ቅርንጫፍ እሁድ ክፍት ነው✅\\r\\n📌ሜክሲኮ ...  emartzonsportswear   \n",
       "\n",
       "                        date  \n",
       "0  2024-09-26 12:31:37+00:00  \n",
       "1  2024-09-26 09:06:43+00:00  \n",
       "2  2024-09-24 08:07:57+00:00  \n",
       "3  2024-09-23 06:32:01+00:00  \n",
       "4  2024-09-22 09:23:05+00:00  "
      ]
     },
     "execution_count": 10,
     "metadata": {},
     "output_type": "execute_result"
    }
   ],
   "source": [
    "df.head()"
   ]
  },
  {
   "cell_type": "code",
   "execution_count": 11,
   "metadata": {},
   "outputs": [],
   "source": [
    "clean_df=pd.read_csv('../data/processed/cleaned_messages.csv')"
   ]
  },
  {
   "cell_type": "code",
   "execution_count": 12,
   "metadata": {},
   "outputs": [
    {
     "name": "stdout",
     "output_type": "stream",
     "text": [
      "<class 'pandas.core.frame.DataFrame'>\n",
      "RangeIndex: 229 entries, 0 to 228\n",
      "Data columns (total 4 columns):\n",
      " #   Column           Non-Null Count  Dtype \n",
      "---  ------           --------------  ----- \n",
      " 0   sender_id        229 non-null    int64 \n",
      " 1   channel          229 non-null    object\n",
      " 2   date             229 non-null    object\n",
      " 3   cleaned_message  228 non-null    object\n",
      "dtypes: int64(1), object(3)\n",
      "memory usage: 7.3+ KB\n"
     ]
    }
   ],
   "source": [
    "clean_df.info()"
   ]
  },
  {
   "cell_type": "code",
   "execution_count": 13,
   "metadata": {},
   "outputs": [
    {
     "data": {
      "text/plain": [
       "0                                              መልካም በአ ል\n",
       "1      Original 24 25 authentic player version Jersey...\n",
       "2      መ ቷል _ ava il able _ now ኦ ሪ ጅ ናል _ የ ል ጆች _ ማ...\n",
       "3      ኦ ሪ ጅ ናል _ ማ ሊያ Original Nike Che al se a 20 2...\n",
       "4      ሜ ክሲ ኮ ቅር ን ጫ ፍ እሁድ ክፍ ት ነው ሜ ክሲ ኮ አይ መን  ህን ፃ...\n",
       "                             ...                        \n",
       "224    ሰላም የ em art zon sports wear ቤተ ሰቦች PL መ ጀመር ን...\n",
       "225    መ ቷል _ ava il able _ now ኦ ሪ ጅ ናል _ ማ ሊያ Origi...\n",
       "226    መ ቷል _ ava il able _ now ኦ ሪ ጅ ናል _ ማ ሊያ Origi...\n",
       "227    መ ቷል _ ava il able _ now ኦ ሪ ጅ ናል _ ማ ሊያ Origi...\n",
       "228    መ ቷል _ ava il able _ now ኦ ሪ ጅ ናል _ ማ ሊያ Origi...\n",
       "Name: cleaned_message, Length: 229, dtype: object"
      ]
     },
     "execution_count": 13,
     "metadata": {},
     "output_type": "execute_result"
    }
   ],
   "source": [
    "clean_message_df=clean_df['cleaned_message']\n",
    "clean_message_df"
   ]
  }
 ],
 "metadata": {
  "kernelspec": {
   "display_name": "venv",
   "language": "python",
   "name": "python3"
  },
  "language_info": {
   "codemirror_mode": {
    "name": "ipython",
    "version": 3
   },
   "file_extension": ".py",
   "mimetype": "text/x-python",
   "name": "python",
   "nbconvert_exporter": "python",
   "pygments_lexer": "ipython3",
   "version": "3.12.3"
  }
 },
 "nbformat": 4,
 "nbformat_minor": 2
}
